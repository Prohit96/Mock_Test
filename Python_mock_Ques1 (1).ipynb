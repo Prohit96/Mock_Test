{
 "cells": [
  {
   "cell_type": "code",
   "execution_count": 3,
   "id": "f5472c8b",
   "metadata": {},
   "outputs": [],
   "source": [
    "def firstUniqChar(s):\n",
    "    # Create a dictionary to store character frequencies\n",
    "    char_counts = {}\n",
    "    \n",
    "    # Count the frequency of each character in the string\n",
    "    for char in s:\n",
    "        char_counts[char] = char_counts.get(char, 0) + 1\n",
    "    \n",
    "    # Iterate through the string again to find the first non-repeating character\n",
    "    for i in range(len(s)):\n",
    "        if char_counts[s[i]] == 1:\n",
    "            return i\n",
    "    \n",
    "    # If no non-repeating character is found, return -1\n",
    "    return -1"
   ]
  },
  {
   "cell_type": "code",
   "execution_count": 4,
   "id": "8252822b",
   "metadata": {},
   "outputs": [
    {
     "name": "stdout",
     "output_type": "stream",
     "text": [
      "0\n",
      "2\n",
      "-1\n"
     ]
    }
   ],
   "source": [
    "print(firstUniqChar(\"leetcode\"))     # Output: 0\n",
    "print(firstUniqChar(\"loveleetcode\")) # Output: 2\n",
    "print(firstUniqChar(\"aabb\"))   "
   ]
  },
  {
   "cell_type": "code",
   "execution_count": null,
   "id": "5e644930",
   "metadata": {},
   "outputs": [],
   "source": []
  }
 ],
 "metadata": {
  "kernelspec": {
   "display_name": "Python 3 (ipykernel)",
   "language": "python",
   "name": "python3"
  },
  "language_info": {
   "codemirror_mode": {
    "name": "ipython",
    "version": 3
   },
   "file_extension": ".py",
   "mimetype": "text/x-python",
   "name": "python",
   "nbconvert_exporter": "python",
   "pygments_lexer": "ipython3",
   "version": "3.9.13"
  }
 },
 "nbformat": 4,
 "nbformat_minor": 5
}
