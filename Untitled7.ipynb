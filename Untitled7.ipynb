{
 "cells": [
  {
   "cell_type": "code",
   "execution_count": 1,
   "id": "57450940-afb8-43a2-9f31-7efcaa421a59",
   "metadata": {},
   "outputs": [],
   "source": [
    "import pandas as pd\n",
    "import matplotlib.pyplot as plt"
   ]
  },
  {
   "cell_type": "code",
   "execution_count": null,
   "id": "dbf016ce-d747-485f-9b2f-6c3c23d7f473",
   "metadata": {},
   "outputs": [],
   "source": [
    "# Read the dataset from sales_data.csv\n",
    "df = pd.read_csv('sales_data.csv', sep='\\t')"
   ]
  },
  {
   "cell_type": "code",
   "execution_count": null,
   "id": "68c1c379-8daa-420e-b5ff-c559303c1e76",
   "metadata": {},
   "outputs": [],
   "source": [
    "# Group the data by product_id and calculate the total revenue for each product\n",
    "product_revenue = df.groupby('product_id')['revenue'].sum().reset_index()"
   ]
  },
  {
   "cell_type": "code",
   "execution_count": null,
   "id": "75212002-80fd-49b0-8816-3e8beb2417af",
   "metadata": {},
   "outputs": [],
   "source": [
    "# Sort the products by revenue in descending order\n",
    "product_revenue = product_revenue.sort_values(by='revenue', ascending=False)\n",
    "\n",
    "# Select the top 10 products by revenue\n",
    "top_10_products = product_revenue.head(10)\n",
    "\n",
    "# Create a bar plot to visualize the top 10 products by revenue\n",
    "plt.figure(figsize=(10, 6))\n",
    "plt.bar(top_10_products['product_id'], top_10_products['revenue'], color='skyblue')\n",
    "plt.xlabel('Product ID')\n",
    "plt.ylabel('Total Revenue')\n",
    "plt.title('Top 10 Products by Revenue')\n",
    "plt.xticks(rotation=45)\n",
    "plt.tight_layout()"
   ]
  },
  {
   "cell_type": "code",
   "execution_count": null,
   "id": "9556778c-96ce-4f7a-850e-2342214eb1fe",
   "metadata": {},
   "outputs": [],
   "source": [
    "# Show the plot\n",
    "plt.show()"
   ]
  },
  {
   "cell_type": "code",
   "execution_count": 3,
   "id": "7d3cec20-cd56-4b10-8e91-d46f323358a6",
   "metadata": {},
   "outputs": [],
   "source": [
    "###### 3. You have a dataset named stock_prices.csv that contains daily stock prices of a company. The dataset has columns date and closing_price. Write a Python script to read the dataset, convert the date column to a datetime object, and then perform a time series analysis by plotting the closing price over time with a rolling 30-day moving average."
   ]
  },
  {
   "cell_type": "code",
   "execution_count": null,
   "id": "c2fd30e7-0aea-488b-80ad-65c7f5599be9",
   "metadata": {},
   "outputs": [],
   "source": [
    "import pandas as pd\n",
    "import matplotlib.pyplot as plt\n",
    "\n",
    "# Read the dataset from stock_prices.csv\n",
    "df = pd.read_csv('stock_prices.csv')\n",
    "\n",
    "# Convert the 'date' column to a datetime object\n",
    "df['date'] = pd.to_datetime(df['date'])\n",
    "\n",
    "# Sort the DataFrame by date (in case it's not sorted)\n",
    "df = df.sort_values(by='date')\n",
    "\n",
    "# Calculate the 30-day rolling moving average\n",
    "df['rolling_avg_30d'] = df['closing_price'].rolling(window=30).mean()\n",
    "\n",
    "# Create a line plot to visualize the closing price and rolling 30-day moving average\n",
    "plt.figure(figsize=(12, 6))\n",
    "plt.plot(df['date'], df['closing_price'], label='Closing Price', color='blue')\n",
    "plt.plot(df['date'], df['rolling_avg_30d'], label='30-Day Rolling Avg', color='orange')\n",
    "plt.xlabel('Date')\n",
    "plt.ylabel('Price')\n",
    "plt.title('Closing Price Over Time with 30-Day Rolling Avg')\n",
    "plt.legend()\n",
    "plt.grid(True)\n",
    "\n",
    "# Show the plot\n",
    "plt.tight_layout()\n",
    "plt.show()\n"
   ]
  },
  {
   "cell_type": "code",
   "execution_count": null,
   "id": "b5738ba2-afbe-4697-83bf-dfed5a7e8461",
   "metadata": {},
   "outputs": [],
   "source": [
    "####  5. You have a dataset named customer_data.csv that contains information about customers. The dataset has columns customer_id, age, gender, email, and purchases. Write a Python script to read the dataset, perform data cleaning by removing duplicates and handling missing values, and then calculate the average number of purchases for each gender."
   ]
  },
  {
   "cell_type": "code",
   "execution_count": null,
   "id": "b1afc937-eb05-4464-b335-e3e03133d4e3",
   "metadata": {},
   "outputs": [],
   "source": [
    "import pandas as pd\n",
    "\n",
    "# Read the dataset from customer_data.csv\n",
    "df = pd.read_csv('customer_data.csv')\n",
    "\n",
    "# Data Cleaning: Remove duplicates and handle missing values\n",
    "# Remove duplicates based on 'customer_id'\n",
    "df = df.drop_duplicates(subset='customer_id')\n",
    "\n",
    "# Fill missing values in 'purchases' column with 0\n",
    "df['purchases'].fillna(0, inplace=True)\n",
    "\n",
    "# Calculate the average number of purchases for each gender\n",
    "average_purchases_by_gender = df.groupby('gender')['purchases'].mean()\n",
    "\n",
    "# Print the result\n",
    "print(average_purchases_by_gender)\n"
   ]
  },
  {
   "cell_type": "code",
   "execution_count": null,
   "id": "dd1da6cb-1a40-4bea-afd9-d89cc9f36780",
   "metadata": {},
   "outputs": [],
   "source": []
  },
  {
   "cell_type": "code",
   "execution_count": null,
   "id": "d44f56a0-5e7d-4b12-bdd1-fd2180cc0c64",
   "metadata": {},
   "outputs": [],
   "source": [
    "#### 12. You have an Excel worksheet named \"SalesData\" with columns \"Product\", \"Quantity\", and \"Price\". Write a VBA macro to calculate the total revenue for each product (Quantity multiplied by Price) and display the results in a new column named \"Total Revenue\" next to the existing data."
   ]
  },
  {
   "cell_type": "code",
   "execution_count": null,
   "id": "ce42e0b6-71d0-4323-a1e2-1ddc6a97bfbf",
   "metadata": {},
   "outputs": [],
   "source": [
    "Sub CalculateTotalRevenue()\n",
    "    Dim ws As Worksheet\n",
    "    Dim LastRow As Long\n",
    "    \n",
    "    ' Define the worksheet\n",
    "    Set ws = ThisWorkbook.Worksheets(\"SalesData\")\n",
    "    \n",
    "    ' Find the last row with data in the \"Product\" column\n",
    "    LastRow = ws.Cells(ws.Rows.Count, \"A\").End(xlUp).Row\n",
    "    \n",
    "    ' Add a header for the new column\n",
    "    ws.Cells(1, LastRow + 2).Value = \"Total Revenue\"\n",
    "    \n",
    "    ' Calculate total revenue for each row and fill in the new column\n",
    "    For i = 2 To LastRow\n",
    "        ws.Cells(i, LastRow + 2).Formula = \"=B\" & i & \"*C\" & i\n",
    "    Next i\n",
    "    \n",
    "    ' Autofill the formula for all rows\n",
    "    ws.Range(ws.Cells(2, LastRow + 2), ws.Cells(LastRow, LastRow + 2)).FillDown\n",
    "End Sub\n"
   ]
  },
  {
   "cell_type": "code",
   "execution_count": null,
   "id": "c202df2d-9583-4b53-b2f2-c2f0b99d8a01",
   "metadata": {},
   "outputs": [],
   "source": []
  }
 ],
 "metadata": {
  "kernelspec": {
   "display_name": "Python 3 (ipykernel)",
   "language": "python",
   "name": "python3"
  },
  "language_info": {
   "codemirror_mode": {
    "name": "ipython",
    "version": 3
   },
   "file_extension": ".py",
   "mimetype": "text/x-python",
   "name": "python",
   "nbconvert_exporter": "python",
   "pygments_lexer": "ipython3",
   "version": "3.10.6"
  }
 },
 "nbformat": 4,
 "nbformat_minor": 5
}
